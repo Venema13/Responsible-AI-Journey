# Week 6: Bias in AI – Titanic Dataset Analysis
import pandas as pd

# Load Titanic dataset (replace with your CSV path if needed)
df = pd.read_csv("titanic.csv")

# Basic overview
print(df.head())
print(df.info())

# Survival rate by gender
gender_survival = df.groupby("Sex")["Survived"].mean()
print("Survival rate by gender:\n", gender_survival)

# Survival rate by age group
df["AgeGroup"] = pd.cut(df["Age"], bins=[0, 18, 40, 60, 100], labels=["Child", "Young Adult", "Adult", "Senior"])
age_survival = df.groupby("AgeGroup")["Survived"].mean()
print("Survival rate by age group:\n", age_survival)

# Visualization (optional)
import matplotlib.pyplot as plt

gender_survival.plot(kind="bar", title="Survival Rate by Gender")
plt.show()

age_survival.plot(kind="bar", title="Survival Rate by Age Group")
plt.show()
